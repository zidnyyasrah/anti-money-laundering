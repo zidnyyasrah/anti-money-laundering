{
 "cells": [
  {
   "cell_type": "markdown",
   "metadata": {},
   "source": [
    "# **Import Libraries**"
   ]
  },
  {
   "cell_type": "code",
   "execution_count": 3,
   "metadata": {},
   "outputs": [
    {
     "name": "stdout",
     "output_type": "stream",
     "text": [
      "Collecting category-encoders\n",
      "  Downloading category_encoders-2.6.1-py2.py3-none-any.whl (81 kB)\n",
      "     ---------------------------------------- 81.9/81.9 kB 1.5 MB/s eta 0:00:00\n",
      "Requirement already satisfied: patsy>=0.5.1 in c:\\users\\zidny\\miniconda3\\lib\\site-packages (from category-encoders) (0.5.3)\n",
      "Requirement already satisfied: numpy>=1.14.0 in c:\\users\\zidny\\miniconda3\\lib\\site-packages (from category-encoders) (1.23.5)\n",
      "Requirement already satisfied: pandas>=1.0.5 in c:\\users\\zidny\\miniconda3\\lib\\site-packages (from category-encoders) (2.0.1)\n",
      "Requirement already satisfied: scipy>=1.0.0 in c:\\users\\zidny\\miniconda3\\lib\\site-packages (from category-encoders) (1.10.1)\n",
      "Requirement already satisfied: scikit-learn>=0.20.0 in c:\\users\\zidny\\miniconda3\\lib\\site-packages (from category-encoders) (1.2.2)\n",
      "Requirement already satisfied: statsmodels>=0.9.0 in c:\\users\\zidny\\miniconda3\\lib\\site-packages (from category-encoders) (0.14.0)\n",
      "Requirement already satisfied: python-dateutil>=2.8.2 in c:\\users\\zidny\\miniconda3\\lib\\site-packages (from pandas>=1.0.5->category-encoders) (2.8.2)\n",
      "Requirement already satisfied: pytz>=2020.1 in c:\\users\\zidny\\miniconda3\\lib\\site-packages (from pandas>=1.0.5->category-encoders) (2023.3)\n",
      "Requirement already satisfied: tzdata>=2022.1 in c:\\users\\zidny\\miniconda3\\lib\\site-packages (from pandas>=1.0.5->category-encoders) (2023.3)\n",
      "Requirement already satisfied: six in c:\\users\\zidny\\miniconda3\\lib\\site-packages (from patsy>=0.5.1->category-encoders) (1.16.0)\n",
      "Requirement already satisfied: threadpoolctl>=2.0.0 in c:\\users\\zidny\\miniconda3\\lib\\site-packages (from scikit-learn>=0.20.0->category-encoders) (3.1.0)\n",
      "Requirement already satisfied: joblib>=1.1.1 in c:\\users\\zidny\\miniconda3\\lib\\site-packages (from scikit-learn>=0.20.0->category-encoders) (1.2.0)\n",
      "Requirement already satisfied: packaging>=21.3 in c:\\users\\zidny\\miniconda3\\lib\\site-packages (from statsmodels>=0.9.0->category-encoders) (23.0)\n",
      "Installing collected packages: category-encoders\n",
      "Successfully installed category-encoders-2.6.1\n"
     ]
    }
   ],
   "source": [
    "!pip install category-encoders"
   ]
  },
  {
   "cell_type": "code",
   "execution_count": 1,
   "metadata": {},
   "outputs": [],
   "source": [
    "import pandas as pd\n",
    "import joblib"
   ]
  },
  {
   "cell_type": "markdown",
   "metadata": {},
   "source": [
    "# **Model Inference**"
   ]
  },
  {
   "cell_type": "code",
   "execution_count": 4,
   "metadata": {},
   "outputs": [],
   "source": [
    "# Menggunakan joblib untuk meload model\n",
    "pipeline = joblib.load('rf_model.pkl')"
   ]
  },
  {
   "cell_type": "code",
   "execution_count": 5,
   "metadata": {},
   "outputs": [
    {
     "data": {
      "text/html": [
       "<div>\n",
       "<style scoped>\n",
       "    .dataframe tbody tr th:only-of-type {\n",
       "        vertical-align: middle;\n",
       "    }\n",
       "\n",
       "    .dataframe tbody tr th {\n",
       "        vertical-align: top;\n",
       "    }\n",
       "\n",
       "    .dataframe thead th {\n",
       "        text-align: right;\n",
       "    }\n",
       "</style>\n",
       "<table border=\"1\" class=\"dataframe\">\n",
       "  <thead>\n",
       "    <tr style=\"text-align: right;\">\n",
       "      <th></th>\n",
       "      <th>From Bank</th>\n",
       "      <th>Account</th>\n",
       "      <th>To Bank</th>\n",
       "      <th>Account.1</th>\n",
       "      <th>Amount Paid</th>\n",
       "      <th>Payment Format</th>\n",
       "      <th>Day</th>\n",
       "      <th>Hour</th>\n",
       "      <th>Minute</th>\n",
       "      <th>same_bank</th>\n",
       "    </tr>\n",
       "  </thead>\n",
       "  <tbody>\n",
       "    <tr>\n",
       "      <th>0</th>\n",
       "      <td>70</td>\n",
       "      <td>80E40A2C0</td>\n",
       "      <td>3051</td>\n",
       "      <td>1</td>\n",
       "      <td>2023</td>\n",
       "      <td>ACH</td>\n",
       "      <td>6</td>\n",
       "      <td>4</td>\n",
       "      <td>20</td>\n",
       "      <td>1</td>\n",
       "    </tr>\n",
       "  </tbody>\n",
       "</table>\n",
       "</div>"
      ],
      "text/plain": [
       "   From Bank    Account  To Bank  Account.1  Amount Paid Payment Format  Day   \n",
       "0         70  80E40A2C0     3051          1         2023            ACH    6  \\\n",
       "\n",
       "   Hour  Minute  same_bank  \n",
       "0     4      20          1  "
      ]
     },
     "execution_count": 5,
     "metadata": {},
     "output_type": "execute_result"
    }
   ],
   "source": [
    "# Membuat data inference baru\n",
    "data_inf = {\n",
    "    'From Bank': 70,\n",
    "    'Account': '80E40A2C0',\n",
    "    'To Bank': 3051,\n",
    "    'Account.1': 1,\n",
    "    'Amount Paid': 2023,\n",
    "    'Payment Format': 'ACH',\n",
    "    'Day': 6,\n",
    "    'Hour': 4,\n",
    "    'Minute': 20,\n",
    "    'same_bank': 1,\n",
    "}\n",
    "\n",
    "# Mengubah dictionary ke dataframe\n",
    "data_inf = pd.DataFrame([data_inf])\n",
    "\n",
    "# Menampilkan dataframe baru\n",
    "data_inf"
   ]
  },
  {
   "cell_type": "code",
   "execution_count": 6,
   "metadata": {},
   "outputs": [
    {
     "name": "stdout",
     "output_type": "stream",
     "text": [
      "[1]\n"
     ]
    }
   ],
   "source": [
    "# Melakukan prediksi dengan model dari data baru\n",
    "prediksi = pipeline.predict(data_inf)\n",
    "print(prediksi)"
   ]
  }
 ],
 "metadata": {
  "kernelspec": {
   "display_name": "base",
   "language": "python",
   "name": "python3"
  },
  "language_info": {
   "codemirror_mode": {
    "name": "ipython",
    "version": 3
   },
   "file_extension": ".py",
   "mimetype": "text/x-python",
   "name": "python",
   "nbconvert_exporter": "python",
   "pygments_lexer": "ipython3",
   "version": "3.10.10"
  },
  "orig_nbformat": 4
 },
 "nbformat": 4,
 "nbformat_minor": 2
}
